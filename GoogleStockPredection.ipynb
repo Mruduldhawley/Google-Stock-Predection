{
  "nbformat": 4,
  "nbformat_minor": 0,
  "metadata": {
    "colab": {
      "name": "GoogleStockPredection.ipynb",
      "provenance": [],
      "toc_visible": true
    },
    "kernelspec": {
      "name": "python3",
      "display_name": "Python 3"
    },
    "language_info": {
      "name": "python"
    }
  },
  "cells": [
    {
      "cell_type": "code",
      "metadata": {
        "id": "_im-fO1KCIQz"
      },
      "source": [
        "  import pandas as pd\n",
        "  import numpy as np\n",
        "  import matplotlib.pyplot as plt"
      ],
      "execution_count": null,
      "outputs": []
    },
    {
      "cell_type": "code",
      "metadata": {
        "id": "Gp1QrsB2Fbyi"
      },
      "source": [
        "t_set = pd.read_csv('train.csv')"
      ],
      "execution_count": null,
      "outputs": []
    },
    {
      "cell_type": "code",
      "metadata": {
        "colab": {
          "base_uri": "https://localhost:8080/",
          "height": 202
        },
        "id": "aJcD6GKLF0DR",
        "outputId": "e06c2da2-df90-40ee-c5be-f611220a186a"
      },
      "source": [
        "t_set.head()"
      ],
      "execution_count": null,
      "outputs": [
        {
          "output_type": "execute_result",
          "data": {
            "text/html": [
              "<div>\n",
              "<style scoped>\n",
              "    .dataframe tbody tr th:only-of-type {\n",
              "        vertical-align: middle;\n",
              "    }\n",
              "\n",
              "    .dataframe tbody tr th {\n",
              "        vertical-align: top;\n",
              "    }\n",
              "\n",
              "    .dataframe thead th {\n",
              "        text-align: right;\n",
              "    }\n",
              "</style>\n",
              "<table border=\"1\" class=\"dataframe\">\n",
              "  <thead>\n",
              "    <tr style=\"text-align: right;\">\n",
              "      <th></th>\n",
              "      <th>Date</th>\n",
              "      <th>Open</th>\n",
              "      <th>High</th>\n",
              "      <th>Low</th>\n",
              "      <th>Close</th>\n",
              "      <th>Volume</th>\n",
              "    </tr>\n",
              "  </thead>\n",
              "  <tbody>\n",
              "    <tr>\n",
              "      <th>0</th>\n",
              "      <td>1/3/2012</td>\n",
              "      <td>325.25</td>\n",
              "      <td>332.83</td>\n",
              "      <td>324.97</td>\n",
              "      <td>663.59</td>\n",
              "      <td>7,380,500</td>\n",
              "    </tr>\n",
              "    <tr>\n",
              "      <th>1</th>\n",
              "      <td>1/4/2012</td>\n",
              "      <td>331.27</td>\n",
              "      <td>333.87</td>\n",
              "      <td>329.08</td>\n",
              "      <td>666.45</td>\n",
              "      <td>5,749,400</td>\n",
              "    </tr>\n",
              "    <tr>\n",
              "      <th>2</th>\n",
              "      <td>1/5/2012</td>\n",
              "      <td>329.83</td>\n",
              "      <td>330.75</td>\n",
              "      <td>326.89</td>\n",
              "      <td>657.21</td>\n",
              "      <td>6,590,300</td>\n",
              "    </tr>\n",
              "    <tr>\n",
              "      <th>3</th>\n",
              "      <td>1/6/2012</td>\n",
              "      <td>328.34</td>\n",
              "      <td>328.77</td>\n",
              "      <td>323.68</td>\n",
              "      <td>648.24</td>\n",
              "      <td>5,405,900</td>\n",
              "    </tr>\n",
              "    <tr>\n",
              "      <th>4</th>\n",
              "      <td>1/9/2012</td>\n",
              "      <td>322.04</td>\n",
              "      <td>322.29</td>\n",
              "      <td>309.46</td>\n",
              "      <td>620.76</td>\n",
              "      <td>11,688,800</td>\n",
              "    </tr>\n",
              "  </tbody>\n",
              "</table>\n",
              "</div>"
            ],
            "text/plain": [
              "       Date    Open    High     Low   Close      Volume\n",
              "0  1/3/2012  325.25  332.83  324.97  663.59   7,380,500\n",
              "1  1/4/2012  331.27  333.87  329.08  666.45   5,749,400\n",
              "2  1/5/2012  329.83  330.75  326.89  657.21   6,590,300\n",
              "3  1/6/2012  328.34  328.77  323.68  648.24   5,405,900\n",
              "4  1/9/2012  322.04  322.29  309.46  620.76  11,688,800"
            ]
          },
          "metadata": {},
          "execution_count": 3
        }
      ]
    },
    {
      "cell_type": "code",
      "metadata": {
        "colab": {
          "base_uri": "https://localhost:8080/"
        },
        "id": "cf2Axs5TJD_p",
        "outputId": "1b71b0d8-701e-472b-eef5-be6842452be8"
      },
      "source": [
        "t_set.shape"
      ],
      "execution_count": null,
      "outputs": [
        {
          "output_type": "execute_result",
          "data": {
            "text/plain": [
              "(1258, 6)"
            ]
          },
          "metadata": {},
          "execution_count": 4
        }
      ]
    },
    {
      "cell_type": "code",
      "metadata": {
        "id": "zLmy5HYaF8OB"
      },
      "source": [
        "#Numpy Array\n",
        "training_set=t_set.iloc[:,1:2].values"
      ],
      "execution_count": null,
      "outputs": []
    },
    {
      "cell_type": "markdown",
      "metadata": {
        "id": "A3ZQFkeMGtSB"
      },
      "source": [
        "Feature Scaling (Normalization)"
      ]
    },
    {
      "cell_type": "code",
      "metadata": {
        "id": "qTNUlVLiGTi4"
      },
      "source": [
        "from sklearn.preprocessing import MinMaxScaler"
      ],
      "execution_count": null,
      "outputs": []
    },
    {
      "cell_type": "code",
      "metadata": {
        "id": "Z42HTQHPHKx5"
      },
      "source": [
        "Nor = MinMaxScaler(feature_range=(0,1))\n",
        "scaled_training_set = Nor.fit_transform(training_set) "
      ],
      "execution_count": null,
      "outputs": []
    },
    {
      "cell_type": "code",
      "metadata": {
        "colab": {
          "base_uri": "https://localhost:8080/"
        },
        "id": "PlIKhASpHwBR",
        "outputId": "7c219c2e-3afa-4fb5-c5d0-56486b371361"
      },
      "source": [
        "scaled_training_set"
      ],
      "execution_count": null,
      "outputs": [
        {
          "output_type": "execute_result",
          "data": {
            "text/plain": [
              "array([[0.08581368],\n",
              "       [0.09701243],\n",
              "       [0.09433366],\n",
              "       ...,\n",
              "       [0.95725128],\n",
              "       [0.93796041],\n",
              "       [0.93688146]])"
            ]
          },
          "metadata": {},
          "execution_count": 8
        }
      ]
    },
    {
      "cell_type": "code",
      "metadata": {
        "id": "tQhtAlfTIrio"
      },
      "source": [
        "X_train=[]\n",
        "y_train=[]\n",
        "for i in range(70,1258):\n",
        "  X_train.append(scaled_training_set[i-70:i, 0])\n",
        "  y_train.append(scaled_training_set[i, 0])"
      ],
      "execution_count": null,
      "outputs": []
    },
    {
      "cell_type": "code",
      "metadata": {
        "id": "WMxWhxRLKKS_"
      },
      "source": [
        "X_train,y_train = np.array(X_train), np.array(y_train)"
      ],
      "execution_count": null,
      "outputs": []
    },
    {
      "cell_type": "code",
      "metadata": {
        "colab": {
          "base_uri": "https://localhost:8080/"
        },
        "id": "N22-8kyQKd1H",
        "outputId": "07c2d8a4-cf6c-4dac-c46c-2b635fefaa9b"
      },
      "source": [
        "X_train,y_train.shape"
      ],
      "execution_count": null,
      "outputs": [
        {
          "output_type": "execute_result",
          "data": {
            "text/plain": [
              "(array([[0.08581368, 0.09701243, 0.09433366, ..., 0.06782499, 0.06823424,\n",
              "         0.07601012],\n",
              "        [0.09701243, 0.09433366, 0.09156187, ..., 0.06823424, 0.07601012,\n",
              "         0.08082819],\n",
              "        [0.09433366, 0.09156187, 0.07984225, ..., 0.07601012, 0.08082819,\n",
              "         0.05807724],\n",
              "        ...,\n",
              "        [0.917665  , 0.91130292, 0.91811147, ..., 0.95475854, 0.95204256,\n",
              "         0.95163331],\n",
              "        [0.91130292, 0.91811147, 0.93176576, ..., 0.95204256, 0.95163331,\n",
              "         0.95725128],\n",
              "        [0.91811147, 0.93176576, 0.94402485, ..., 0.95163331, 0.95725128,\n",
              "         0.93796041]]), (1188,))"
            ]
          },
          "metadata": {},
          "execution_count": 11
        }
      ]
    },
    {
      "cell_type": "markdown",
      "metadata": {
        "id": "Mflp1gfTLXKw"
      },
      "source": [
        "Reshaping"
      ]
    },
    {
      "cell_type": "code",
      "metadata": {
        "id": "D0RNmhcbLFbv"
      },
      "source": [
        "X_train = np.reshape(X_train, (X_train.shape[0],X_train.shape[1], 1))"
      ],
      "execution_count": null,
      "outputs": []
    },
    {
      "cell_type": "markdown",
      "metadata": {
        "id": "iGNY5r5JH9FI"
      },
      "source": [
        "# Model Builiding"
      ]
    },
    {
      "cell_type": "code",
      "metadata": {
        "id": "GPI6-rFHOJTy"
      },
      "source": [
        "from keras.models import Sequential\n",
        "from keras.layers import Dense\n",
        "from keras.layers import LSTM\n",
        "from keras.layers import Dropout"
      ],
      "execution_count": null,
      "outputs": []
    },
    {
      "cell_type": "code",
      "metadata": {
        "id": "AN6YhpvyOlPY"
      },
      "source": [
        "regression = Sequential()"
      ],
      "execution_count": null,
      "outputs": []
    },
    {
      "cell_type": "markdown",
      "metadata": {
        "id": "l7CaL08MPDm_"
      },
      "source": [
        "Fist Layer and dropout regularization"
      ]
    },
    {
      "cell_type": "code",
      "metadata": {
        "id": "nFAyHshjPDBY"
      },
      "source": [
        "regression.add(LSTM(units = 60, return_sequences=True, input_shape = (X_train.shape[1], 1) ))\n"
      ],
      "execution_count": null,
      "outputs": []
    },
    {
      "cell_type": "code",
      "metadata": {
        "id": "vmRFgofKQg6e"
      },
      "source": [
        "regression.add(Dropout(0.2))"
      ],
      "execution_count": null,
      "outputs": []
    },
    {
      "cell_type": "markdown",
      "metadata": {
        "id": "2Qms6vADQ8H3"
      },
      "source": [
        "Second Layer\n"
      ]
    },
    {
      "cell_type": "code",
      "metadata": {
        "id": "9WTvy0emQxGR"
      },
      "source": [
        "regression.add(LSTM(units = 60, return_sequences=True ))\n",
        "regression.add(Dropout(0.2))"
      ],
      "execution_count": null,
      "outputs": []
    },
    {
      "cell_type": "markdown",
      "metadata": {
        "id": "lg2ryo8sRaE9"
      },
      "source": [
        "3rd Layer\n"
      ]
    },
    {
      "cell_type": "code",
      "metadata": {
        "id": "DkBtN7VsRY-H"
      },
      "source": [
        "regression.add(LSTM(units = 60, return_sequences=True ))\n",
        "regression.add(Dropout(0.2))"
      ],
      "execution_count": null,
      "outputs": []
    },
    {
      "cell_type": "markdown",
      "metadata": {
        "id": "2DVGdxPKRf0f"
      },
      "source": [
        "4th Layer"
      ]
    },
    {
      "cell_type": "code",
      "metadata": {
        "id": "6n5S5Q86RdoF"
      },
      "source": [
        "regression.add(LSTM(units = 60 ))\n",
        "regression.add(Dropout(0.2))"
      ],
      "execution_count": null,
      "outputs": []
    },
    {
      "cell_type": "markdown",
      "metadata": {
        "id": "87xDRIMSR3MQ"
      },
      "source": [
        "Output Layer"
      ]
    },
    {
      "cell_type": "code",
      "metadata": {
        "id": "3UpXJGa0Ry_v"
      },
      "source": [
        "regression.add(Dense(units = 1))"
      ],
      "execution_count": null,
      "outputs": []
    },
    {
      "cell_type": "code",
      "metadata": {
        "colab": {
          "base_uri": "https://localhost:8080/"
        },
        "id": "gZXNapMMSMon",
        "outputId": "1fe2b440-8c50-4ca1-bb39-4991b4243e9f"
      },
      "source": [
        "regression.summary()"
      ],
      "execution_count": null,
      "outputs": [
        {
          "output_type": "stream",
          "name": "stdout",
          "text": [
            "Model: \"sequential\"\n",
            "_________________________________________________________________\n",
            " Layer (type)                Output Shape              Param #   \n",
            "=================================================================\n",
            " lstm (LSTM)                 (None, 70, 60)            14880     \n",
            "                                                                 \n",
            " dropout (Dropout)           (None, 70, 60)            0         \n",
            "                                                                 \n",
            " lstm_1 (LSTM)               (None, 70, 60)            29040     \n",
            "                                                                 \n",
            " dropout_1 (Dropout)         (None, 70, 60)            0         \n",
            "                                                                 \n",
            " lstm_2 (LSTM)               (None, 70, 60)            29040     \n",
            "                                                                 \n",
            " dropout_2 (Dropout)         (None, 70, 60)            0         \n",
            "                                                                 \n",
            " lstm_3 (LSTM)               (None, 60)                29040     \n",
            "                                                                 \n",
            " dropout_3 (Dropout)         (None, 60)                0         \n",
            "                                                                 \n",
            " dense (Dense)               (None, 1)                 61        \n",
            "                                                                 \n",
            "=================================================================\n",
            "Total params: 102,061\n",
            "Trainable params: 102,061\n",
            "Non-trainable params: 0\n",
            "_________________________________________________________________\n"
          ]
        }
      ]
    },
    {
      "cell_type": "markdown",
      "metadata": {
        "id": "8-n0CODVSf93"
      },
      "source": [
        "Compiling  "
      ]
    },
    {
      "cell_type": "code",
      "metadata": {
        "id": "nTCT01pqSRbW"
      },
      "source": [
        "regression.compile(optimizer='adam', loss = 'mean_squared_error')"
      ],
      "execution_count": null,
      "outputs": []
    },
    {
      "cell_type": "code",
      "metadata": {
        "colab": {
          "base_uri": "https://localhost:8080/"
        },
        "id": "I-Hm8qYVThEt",
        "outputId": "755392ea-fd11-4d01-fa93-6ec49babe766"
      },
      "source": [
        "regression.fit(X_train, y_train, epochs = 120, batch_size = 32)"
      ],
      "execution_count": null,
      "outputs": [
        {
          "output_type": "stream",
          "name": "stdout",
          "text": [
            "Epoch 1/120\n",
            "38/38 [==============================] - 12s 134ms/step - loss: 0.0341\n",
            "Epoch 2/120\n",
            "38/38 [==============================] - 5s 137ms/step - loss: 0.0062\n",
            "Epoch 3/120\n",
            "38/38 [==============================] - 5s 137ms/step - loss: 0.0055\n",
            "Epoch 4/120\n",
            "38/38 [==============================] - 5s 132ms/step - loss: 0.0057\n",
            "Epoch 5/120\n",
            "38/38 [==============================] - 5s 134ms/step - loss: 0.0049\n",
            "Epoch 6/120\n",
            "38/38 [==============================] - 5s 131ms/step - loss: 0.0048\n",
            "Epoch 7/120\n",
            "38/38 [==============================] - 5s 140ms/step - loss: 0.0045\n",
            "Epoch 8/120\n",
            "38/38 [==============================] - 5s 136ms/step - loss: 0.0047\n",
            "Epoch 9/120\n",
            "38/38 [==============================] - 5s 133ms/step - loss: 0.0048\n",
            "Epoch 10/120\n",
            "38/38 [==============================] - 5s 130ms/step - loss: 0.0043\n",
            "Epoch 11/120\n",
            "38/38 [==============================] - 5s 132ms/step - loss: 0.0038\n",
            "Epoch 12/120\n",
            "38/38 [==============================] - 5s 135ms/step - loss: 0.0035\n",
            "Epoch 13/120\n",
            "38/38 [==============================] - 5s 141ms/step - loss: 0.0046\n",
            "Epoch 14/120\n",
            "38/38 [==============================] - 5s 135ms/step - loss: 0.0041\n",
            "Epoch 15/120\n",
            "38/38 [==============================] - 5s 134ms/step - loss: 0.0035\n",
            "Epoch 16/120\n",
            "38/38 [==============================] - 5s 135ms/step - loss: 0.0037\n",
            "Epoch 17/120\n",
            "38/38 [==============================] - 5s 132ms/step - loss: 0.0031\n",
            "Epoch 18/120\n",
            "38/38 [==============================] - 5s 134ms/step - loss: 0.0032\n",
            "Epoch 19/120\n",
            "38/38 [==============================] - 5s 134ms/step - loss: 0.0032\n",
            "Epoch 20/120\n",
            "38/38 [==============================] - 5s 138ms/step - loss: 0.0030\n",
            "Epoch 21/120\n",
            "38/38 [==============================] - 5s 131ms/step - loss: 0.0036\n",
            "Epoch 22/120\n",
            "38/38 [==============================] - 5s 130ms/step - loss: 0.0032\n",
            "Epoch 23/120\n",
            "38/38 [==============================] - 5s 141ms/step - loss: 0.0029\n",
            "Epoch 24/120\n",
            "38/38 [==============================] - 5s 139ms/step - loss: 0.0035\n",
            "Epoch 25/120\n",
            "38/38 [==============================] - 5s 145ms/step - loss: 0.0031\n",
            "Epoch 26/120\n",
            "38/38 [==============================] - 5s 132ms/step - loss: 0.0037\n",
            "Epoch 27/120\n",
            "38/38 [==============================] - 5s 139ms/step - loss: 0.0030\n",
            "Epoch 28/120\n",
            "38/38 [==============================] - 5s 136ms/step - loss: 0.0029\n",
            "Epoch 29/120\n",
            "38/38 [==============================] - 5s 141ms/step - loss: 0.0027\n",
            "Epoch 30/120\n",
            "38/38 [==============================] - 5s 130ms/step - loss: 0.0024\n",
            "Epoch 31/120\n",
            "38/38 [==============================] - 5s 128ms/step - loss: 0.0025\n",
            "Epoch 32/120\n",
            "38/38 [==============================] - 5s 128ms/step - loss: 0.0027\n",
            "Epoch 33/120\n",
            "38/38 [==============================] - 5s 132ms/step - loss: 0.0030\n",
            "Epoch 34/120\n",
            "38/38 [==============================] - 5s 142ms/step - loss: 0.0026\n",
            "Epoch 35/120\n",
            "38/38 [==============================] - 5s 129ms/step - loss: 0.0028\n",
            "Epoch 36/120\n",
            "38/38 [==============================] - 5s 133ms/step - loss: 0.0022\n",
            "Epoch 37/120\n",
            "38/38 [==============================] - 5s 142ms/step - loss: 0.0025\n",
            "Epoch 38/120\n",
            "38/38 [==============================] - 5s 139ms/step - loss: 0.0025\n",
            "Epoch 39/120\n",
            "38/38 [==============================] - 5s 132ms/step - loss: 0.0023\n",
            "Epoch 40/120\n",
            "38/38 [==============================] - 5s 131ms/step - loss: 0.0025\n",
            "Epoch 41/120\n",
            "38/38 [==============================] - 5s 132ms/step - loss: 0.0021\n",
            "Epoch 42/120\n",
            "38/38 [==============================] - 5s 130ms/step - loss: 0.0021\n",
            "Epoch 43/120\n",
            "38/38 [==============================] - 5s 133ms/step - loss: 0.0023\n",
            "Epoch 44/120\n",
            "38/38 [==============================] - 5s 130ms/step - loss: 0.0022\n",
            "Epoch 45/120\n",
            "38/38 [==============================] - 5s 132ms/step - loss: 0.0027\n",
            "Epoch 46/120\n",
            "38/38 [==============================] - 5s 135ms/step - loss: 0.0024\n",
            "Epoch 47/120\n",
            "38/38 [==============================] - 6s 148ms/step - loss: 0.0022\n",
            "Epoch 48/120\n",
            "38/38 [==============================] - 5s 138ms/step - loss: 0.0022\n",
            "Epoch 49/120\n",
            "38/38 [==============================] - 5s 136ms/step - loss: 0.0023\n",
            "Epoch 50/120\n",
            "38/38 [==============================] - 5s 128ms/step - loss: 0.0021\n",
            "Epoch 51/120\n",
            "38/38 [==============================] - 5s 136ms/step - loss: 0.0021\n",
            "Epoch 52/120\n",
            "38/38 [==============================] - 5s 132ms/step - loss: 0.0020\n",
            "Epoch 53/120\n",
            "38/38 [==============================] - 5s 142ms/step - loss: 0.0020\n",
            "Epoch 54/120\n",
            "38/38 [==============================] - 5s 130ms/step - loss: 0.0021\n",
            "Epoch 55/120\n",
            "38/38 [==============================] - 5s 129ms/step - loss: 0.0020\n",
            "Epoch 56/120\n",
            "38/38 [==============================] - 5s 138ms/step - loss: 0.0020\n",
            "Epoch 57/120\n",
            "38/38 [==============================] - 5s 137ms/step - loss: 0.0020\n",
            "Epoch 58/120\n",
            "38/38 [==============================] - 5s 131ms/step - loss: 0.0020\n",
            "Epoch 59/120\n",
            "38/38 [==============================] - 5s 136ms/step - loss: 0.0019\n",
            "Epoch 60/120\n",
            "38/38 [==============================] - 5s 136ms/step - loss: 0.0017\n",
            "Epoch 61/120\n",
            "38/38 [==============================] - 5s 136ms/step - loss: 0.0018\n",
            "Epoch 62/120\n",
            "38/38 [==============================] - 5s 131ms/step - loss: 0.0017\n",
            "Epoch 63/120\n",
            "38/38 [==============================] - 5s 132ms/step - loss: 0.0017\n",
            "Epoch 64/120\n",
            "38/38 [==============================] - 5s 130ms/step - loss: 0.0019\n",
            "Epoch 65/120\n",
            "38/38 [==============================] - 5s 138ms/step - loss: 0.0016\n",
            "Epoch 66/120\n",
            "38/38 [==============================] - 5s 133ms/step - loss: 0.0019\n",
            "Epoch 67/120\n",
            "38/38 [==============================] - 5s 131ms/step - loss: 0.0017\n",
            "Epoch 68/120\n",
            "38/38 [==============================] - 5s 130ms/step - loss: 0.0018\n",
            "Epoch 69/120\n",
            "38/38 [==============================] - 5s 140ms/step - loss: 0.0017\n",
            "Epoch 70/120\n",
            "38/38 [==============================] - 5s 130ms/step - loss: 0.0015\n",
            "Epoch 71/120\n",
            "38/38 [==============================] - 5s 137ms/step - loss: 0.0018\n",
            "Epoch 72/120\n",
            "38/38 [==============================] - 5s 131ms/step - loss: 0.0017\n",
            "Epoch 73/120\n",
            "38/38 [==============================] - 5s 136ms/step - loss: 0.0015\n",
            "Epoch 74/120\n",
            "38/38 [==============================] - 5s 133ms/step - loss: 0.0017\n",
            "Epoch 75/120\n",
            "38/38 [==============================] - 5s 130ms/step - loss: 0.0016\n",
            "Epoch 76/120\n",
            "38/38 [==============================] - 5s 131ms/step - loss: 0.0018\n",
            "Epoch 77/120\n",
            "38/38 [==============================] - 5s 139ms/step - loss: 0.0018\n",
            "Epoch 78/120\n",
            "38/38 [==============================] - 5s 132ms/step - loss: 0.0016\n",
            "Epoch 79/120\n",
            "38/38 [==============================] - 5s 136ms/step - loss: 0.0017\n",
            "Epoch 80/120\n",
            "38/38 [==============================] - 5s 136ms/step - loss: 0.0016\n",
            "Epoch 81/120\n",
            "38/38 [==============================] - 5s 129ms/step - loss: 0.0015\n",
            "Epoch 82/120\n",
            "38/38 [==============================] - 5s 131ms/step - loss: 0.0015\n",
            "Epoch 83/120\n",
            "38/38 [==============================] - 5s 130ms/step - loss: 0.0015\n",
            "Epoch 84/120\n",
            "38/38 [==============================] - 5s 129ms/step - loss: 0.0015\n",
            "Epoch 85/120\n",
            "38/38 [==============================] - 5s 136ms/step - loss: 0.0013\n",
            "Epoch 86/120\n",
            "38/38 [==============================] - 5s 139ms/step - loss: 0.0015\n",
            "Epoch 87/120\n",
            "38/38 [==============================] - 5s 139ms/step - loss: 0.0013\n",
            "Epoch 88/120\n",
            "38/38 [==============================] - 5s 140ms/step - loss: 0.0015\n",
            "Epoch 89/120\n",
            "38/38 [==============================] - 5s 138ms/step - loss: 0.0015\n",
            "Epoch 90/120\n",
            "38/38 [==============================] - 5s 137ms/step - loss: 0.0016\n",
            "Epoch 91/120\n",
            "38/38 [==============================] - 5s 135ms/step - loss: 0.0013\n",
            "Epoch 92/120\n",
            "38/38 [==============================] - 5s 132ms/step - loss: 0.0015\n",
            "Epoch 93/120\n",
            "38/38 [==============================] - 5s 138ms/step - loss: 0.0015\n",
            "Epoch 94/120\n",
            "38/38 [==============================] - 5s 142ms/step - loss: 0.0015\n",
            "Epoch 95/120\n",
            "38/38 [==============================] - 5s 132ms/step - loss: 0.0015\n",
            "Epoch 96/120\n",
            "38/38 [==============================] - 5s 137ms/step - loss: 0.0016\n",
            "Epoch 97/120\n",
            "38/38 [==============================] - 5s 135ms/step - loss: 0.0013\n",
            "Epoch 98/120\n",
            "38/38 [==============================] - 5s 133ms/step - loss: 0.0014\n",
            "Epoch 99/120\n",
            "38/38 [==============================] - 5s 133ms/step - loss: 0.0013\n",
            "Epoch 100/120\n",
            "38/38 [==============================] - 5s 136ms/step - loss: 0.0012\n",
            "Epoch 101/120\n",
            "38/38 [==============================] - 5s 137ms/step - loss: 0.0014\n",
            "Epoch 102/120\n",
            "38/38 [==============================] - 5s 139ms/step - loss: 0.0012\n",
            "Epoch 103/120\n",
            "38/38 [==============================] - 5s 132ms/step - loss: 0.0012\n",
            "Epoch 104/120\n",
            "38/38 [==============================] - 5s 142ms/step - loss: 0.0013\n",
            "Epoch 105/120\n",
            "38/38 [==============================] - 5s 130ms/step - loss: 0.0013\n",
            "Epoch 106/120\n",
            "38/38 [==============================] - 5s 135ms/step - loss: 0.0013\n",
            "Epoch 107/120\n",
            "38/38 [==============================] - 5s 135ms/step - loss: 0.0016\n",
            "Epoch 108/120\n",
            "38/38 [==============================] - 5s 131ms/step - loss: 0.0012\n",
            "Epoch 109/120\n",
            "38/38 [==============================] - 5s 131ms/step - loss: 0.0014\n",
            "Epoch 110/120\n",
            "38/38 [==============================] - 5s 139ms/step - loss: 0.0013\n",
            "Epoch 111/120\n",
            "38/38 [==============================] - 5s 134ms/step - loss: 0.0014\n",
            "Epoch 112/120\n",
            "38/38 [==============================] - 5s 136ms/step - loss: 0.0014\n",
            "Epoch 113/120\n",
            "38/38 [==============================] - 5s 129ms/step - loss: 0.0015\n",
            "Epoch 114/120\n",
            "38/38 [==============================] - 5s 131ms/step - loss: 0.0013\n",
            "Epoch 115/120\n",
            "38/38 [==============================] - 5s 130ms/step - loss: 0.0014\n",
            "Epoch 116/120\n",
            "38/38 [==============================] - 5s 141ms/step - loss: 0.0013\n",
            "Epoch 117/120\n",
            "38/38 [==============================] - 5s 132ms/step - loss: 0.0012\n",
            "Epoch 118/120\n",
            "38/38 [==============================] - 5s 135ms/step - loss: 0.0013\n",
            "Epoch 119/120\n",
            "38/38 [==============================] - 5s 129ms/step - loss: 0.0017\n",
            "Epoch 120/120\n",
            "38/38 [==============================] - 5s 133ms/step - loss: 0.0015\n"
          ]
        },
        {
          "output_type": "execute_result",
          "data": {
            "text/plain": [
              "<keras.callbacks.History at 0x7feb4b06e1d0>"
            ]
          },
          "metadata": {},
          "execution_count": 23
        }
      ]
    },
    {
      "cell_type": "code",
      "metadata": {
        "id": "PUyQjBzzVEw9"
      },
      "source": [
        "dataset_test = pd.read_csv('test.csv')\n",
        "real_stock_price = dataset_test.iloc[:, 1:2].values"
      ],
      "execution_count": null,
      "outputs": []
    },
    {
      "cell_type": "code",
      "metadata": {
        "id": "2O3upowHX-Tu"
      },
      "source": [
        "  dataset_total = pd.concat((t_set['Open'], dataset_test['Open']), axis = 0)\n",
        "inputs = dataset_total[len(dataset_total) - len(dataset_test) - 70:].values\n",
        "inputs = inputs.reshape(-1,1)\n",
        "inputs = Nor.transform(inputs)\n",
        "X_test = []\n",
        "for i in range(70, 90):\n",
        "    X_test.append(inputs[i-70:i, 0])\n",
        "X_test = np.array(X_test)\n",
        "X_test = np.reshape(X_test, (X_test.shape[0], X_test.shape[1], 1))\n",
        "predicted_stock_price = regression.predict(X_test)\n",
        "predicted_stock_price = Nor.inverse_transform(predicted_stock_price)"
      ],
      "execution_count": null,
      "outputs": []
    },
    {
      "cell_type": "code",
      "metadata": {
        "colab": {
          "base_uri": "https://localhost:8080/",
          "height": 427
        },
        "id": "o3p-qbr8aUV2",
        "outputId": "e72f1eab-74c1-4b6b-dd90-6ddee43aa908"
      },
      "source": [
        "import matplotlib\n",
        "font = {'family' : 'DejaVu Sans',\n",
        "        'weight' : 'normal',\n",
        "        'size'   : 25}\n",
        "\n",
        "matplotlib.rc('font', **font)\n",
        "plt.figure(figsize=(35,15))\n",
        "plt.plot(real_stock_price, color = 'green', label = 'Real Price of Google Stocks')\n",
        "plt.plot(predicted_stock_price, color = 'red', label = 'Predicted Price of Google Stocks')\n",
        "plt.title('Google Stock Prediction')\n",
        "plt.xlabel('Time')\n",
        "plt.ylabel('Google Stock Price')\n",
        "plt.legend()\n",
        "plt.show()"
      ],
      "execution_count": null,
      "outputs": [
        {
          "output_type": "display_data",
          "data": {
            "image/png": "[encoded data removed]",
            "text/plain": [
              "<Figure size 2520x1080 with 1 Axes>"
            ]
          },
          "metadata": {
            "needs_background": "light"
          }
        }
      ]
    },
    {
      "cell_type": "code",
      "metadata": {
        "id": "i7kdG4q6b6O0"
      },
      "source": [
        ""
      ],
      "execution_count": null,
      "outputs": []
    }
  ]
}